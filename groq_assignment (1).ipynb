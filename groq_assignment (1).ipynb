{
  "nbformat": 4,
  "nbformat_minor": 0,
  "metadata": {
    "colab": {
      "provenance": []
    },
    "kernelspec": {
      "name": "python3",
      "display_name": "Python 3"
    },
    "language_info": {
      "name": "python"
    }
  },
  "cells": [
    {
      "cell_type": "code",
      "source": [
        "# ------------------------------\n",
        "# AI/ML Internship Assignment - Groq API (Safe Version)\n",
        "# ------------------------------\n",
        "\n",
        "import os\n",
        "import requests\n",
        "import json\n",
        "from getpass import getpass\n",
        "\n",
        "# 🔒 Securely enter your API key (hidden, not saved in notebook/GitHub)\n",
        "if \"GROQ_API_KEY\" not in os.environ:\n",
        "    os.environ[\"GROQ_API_KEY\"] = getpass(\"Enter your Groq API key: \")\n",
        "\n",
        "API_BASE = \"https://api.groq.com/openai\"\n",
        "\n",
        "def call_chat_model(messages, model=\"llama-3.3-70b-versatile\", max_tokens=256, temperature=0.2):\n",
        "    url = f\"{API_BASE}/v1/chat/completions\"\n",
        "    headers = {\n",
        "        \"Authorization\": f\"Bearer {os.environ['GROQ_API_KEY']}\",\n",
        "        \"Content-Type\": \"application/json\"\n",
        "    }\n",
        "    payload = {\n",
        "        \"model\": model,\n",
        "        \"messages\": messages,\n",
        "        \"max_tokens\": max_tokens,\n",
        "        \"temperature\": temperature\n",
        "    }\n",
        "\n",
        "    resp = requests.post(url, headers=headers, json=payload)\n",
        "\n",
        "    try:\n",
        "        data = resp.json()\n",
        "    except:\n",
        "        print(\"❌ Could not decode response:\", resp.text)\n",
        "        return None\n",
        "\n",
        "    if \"choices\" not in data:\n",
        "        print(\"⚠️ API Error:\", data)\n",
        "        return None\n",
        "\n",
        "    return data['choices'][0]['message']['content']\n",
        "\n",
        "\n",
        "def summarize_conv(text):\n",
        "    system = {\"role\":\"system\",\"content\":\"Summarize this chat in 1-2 sentences. Return plain text only.\"}\n",
        "    user = {\"role\":\"user\",\"content\": text}\n",
        "    return call_chat_model([system,user])\n",
        "\n",
        "\n",
        "def classify_conv(text):\n",
        "    system = {\"role\":\"system\",\"content\":\"Classify this chat into JSON with fields {\\\"intent\\\":\\\"...\\\", \\\"issue\\\":\\\"...\\\", \\\"category\\\":\\\"...\\\"}.\"}\n",
        "    user = {\"role\":\"user\",\"content\": text}\n",
        "    return call_chat_model([system,user])\n",
        "\n",
        "\n",
        "# ------------------------------\n",
        "# Tests\n",
        "# ------------------------------\n",
        "example1 = \"User: My internet is down. Assistant: Please restart your router.\"\n",
        "example2 = \"User: I can’t log in to my account. Assistant: Please reset your password.\"\n",
        "\n",
        "print(\"---- Summarization Example ----\")\n",
        "print(summarize_conv(example1))\n",
        "\n",
        "print(\"\\n---- Classification Example ----\")\n",
        "print(classify_conv(example2))"
      ],
      "metadata": {
        "colab": {
          "base_uri": "https://localhost:8080/"
        },
        "id": "V8HhO9MdcLwc",
        "outputId": "cfd5cb5e-e35c-4c48-c57c-f541eaf4fcc7"
      },
      "execution_count": 16,
      "outputs": [
        {
          "output_type": "stream",
          "name": "stdout",
          "text": [
            "---- Summarization Example ----\n",
            "The user is experiencing internet issues and the assistant suggests restarting the router as a potential solution. The conversation is about troubleshooting the user's internet problem.\n",
            "\n",
            "---- Classification Example ----\n",
            "Here is the classification of the chat in JSON format:\n",
            "\n",
            "```\n",
            "{\n",
            "  \"intent\": \"Technical Support\",\n",
            "  \"issue\": \"Login Issue\",\n",
            "  \"category\": \"Account Management\"\n",
            "}\n",
            "```\n"
          ]
        }
      ]
    }
  ]
}